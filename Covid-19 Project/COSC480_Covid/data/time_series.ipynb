{
 "cells": [
  {
   "cell_type": "code",
   "execution_count": 22,
   "metadata": {},
   "outputs": [],
   "source": [
    "import pandas as pd\n",
    "import numpy as np\n",
    "import matplotlib.pyplot as plt\n",
    "%matplotlib inline"
   ]
  },
  {
   "cell_type": "code",
   "execution_count": 23,
   "metadata": {},
   "outputs": [
    {
     "data": {
      "text/html": [
       "<div>\n",
       "<style scoped>\n",
       "    .dataframe tbody tr th:only-of-type {\n",
       "        vertical-align: middle;\n",
       "    }\n",
       "\n",
       "    .dataframe tbody tr th {\n",
       "        vertical-align: top;\n",
       "    }\n",
       "\n",
       "    .dataframe thead th {\n",
       "        text-align: right;\n",
       "    }\n",
       "</style>\n",
       "<table border=\"1\" class=\"dataframe\">\n",
       "  <thead>\n",
       "    <tr style=\"text-align: right;\">\n",
       "      <th></th>\n",
       "      <th>Date notified of potential case</th>\n",
       "      <th>Sex</th>\n",
       "      <th>Age group</th>\n",
       "      <th>DHB</th>\n",
       "      <th>Overseas travel</th>\n",
       "      <th>Last country before return</th>\n",
       "      <th>Flight number</th>\n",
       "      <th>Flight departure date</th>\n",
       "      <th>Arrival date</th>\n",
       "    </tr>\n",
       "  </thead>\n",
       "  <tbody>\n",
       "    <tr>\n",
       "      <th>0</th>\n",
       "      <td>07/05/2020</td>\n",
       "      <td>Female</td>\n",
       "      <td>20 to 29</td>\n",
       "      <td>Waitematā</td>\n",
       "      <td>No</td>\n",
       "      <td>NaN</td>\n",
       "      <td>NaN</td>\n",
       "      <td>NaN</td>\n",
       "      <td>NaN</td>\n",
       "    </tr>\n",
       "    <tr>\n",
       "      <th>1</th>\n",
       "      <td>06/05/2020</td>\n",
       "      <td>Male</td>\n",
       "      <td>5 to 9</td>\n",
       "      <td>Waikato</td>\n",
       "      <td>No</td>\n",
       "      <td>NaN</td>\n",
       "      <td>NaN</td>\n",
       "      <td>NaN</td>\n",
       "      <td>NaN</td>\n",
       "    </tr>\n",
       "    <tr>\n",
       "      <th>2</th>\n",
       "      <td>05/05/2020</td>\n",
       "      <td>Female</td>\n",
       "      <td>10 to 14</td>\n",
       "      <td>Waitematā</td>\n",
       "      <td>No</td>\n",
       "      <td>NaN</td>\n",
       "      <td>NaN</td>\n",
       "      <td>NaN</td>\n",
       "      <td>NaN</td>\n",
       "    </tr>\n",
       "    <tr>\n",
       "      <th>3</th>\n",
       "      <td>01/05/2020</td>\n",
       "      <td>Male</td>\n",
       "      <td>60 to 69</td>\n",
       "      <td>Auckland</td>\n",
       "      <td>No</td>\n",
       "      <td>NaN</td>\n",
       "      <td>NaN</td>\n",
       "      <td>NaN</td>\n",
       "      <td>NaN</td>\n",
       "    </tr>\n",
       "    <tr>\n",
       "      <th>4</th>\n",
       "      <td>01/05/2020</td>\n",
       "      <td>Female</td>\n",
       "      <td>20 to 29</td>\n",
       "      <td>Canterbury</td>\n",
       "      <td>No</td>\n",
       "      <td>NaN</td>\n",
       "      <td>NaN</td>\n",
       "      <td>NaN</td>\n",
       "      <td>NaN</td>\n",
       "    </tr>\n",
       "  </tbody>\n",
       "</table>\n",
       "</div>"
      ],
      "text/plain": [
       "  Date notified of potential case     Sex Age group         DHB  \\\n",
       "0                      07/05/2020  Female  20 to 29   Waitematā   \n",
       "1                      06/05/2020    Male    5 to 9     Waikato   \n",
       "2                      05/05/2020  Female  10 to 14   Waitematā   \n",
       "3                      01/05/2020    Male  60 to 69    Auckland   \n",
       "4                      01/05/2020  Female  20 to 29  Canterbury   \n",
       "\n",
       "  Overseas travel Last country before return Flight number  \\\n",
       "0              No                        NaN           NaN   \n",
       "1              No                        NaN           NaN   \n",
       "2              No                        NaN           NaN   \n",
       "3              No                        NaN           NaN   \n",
       "4              No                        NaN           NaN   \n",
       "\n",
       "  Flight departure date Arrival date  \n",
       "0                   NaN          NaN  \n",
       "1                   NaN          NaN  \n",
       "2                   NaN          NaN  \n",
       "3                   NaN          NaN  \n",
       "4                   NaN          NaN  "
      ]
     },
     "execution_count": 23,
     "metadata": {},
     "output_type": "execute_result"
    }
   ],
   "source": [
    "df = pd.read_csv('confirmed.csv')\n",
    "df.head()"
   ]
  },
  {
   "cell_type": "code",
   "execution_count": 25,
   "metadata": {},
   "outputs": [
    {
     "data": {
      "text/plain": [
       "Date notified of potential case    object\n",
       "Sex                                object\n",
       "Age group                          object\n",
       "DHB                                object\n",
       "Overseas travel                    object\n",
       "Last country before return         object\n",
       "Flight number                      object\n",
       "Flight departure date              object\n",
       "Arrival date                       object\n",
       "dtype: object"
      ]
     },
     "execution_count": 25,
     "metadata": {},
     "output_type": "execute_result"
    }
   ],
   "source": [
    "df.dtypes"
   ]
  },
  {
   "cell_type": "code",
   "execution_count": 30,
   "metadata": {},
   "outputs": [],
   "source": [
    "df['Date notified of potential case'] =pd.to_datetime(df['Date notified of potential case'])"
   ]
  },
  {
   "cell_type": "code",
   "execution_count": 31,
   "metadata": {},
   "outputs": [
    {
     "data": {
      "text/plain": [
       "Date notified of potential case    datetime64[ns]\n",
       "Sex                                        object\n",
       "Age group                                  object\n",
       "DHB                                        object\n",
       "Overseas travel                            object\n",
       "Last country before return                 object\n",
       "Flight number                              object\n",
       "Flight departure date                      object\n",
       "Arrival date                               object\n",
       "date                               datetime64[ns]\n",
       "dtype: object"
      ]
     },
     "execution_count": 31,
     "metadata": {},
     "output_type": "execute_result"
    }
   ],
   "source": [
    "df.dtypes\n"
   ]
  },
  {
   "cell_type": "code",
   "execution_count": 34,
   "metadata": {},
   "outputs": [
    {
     "data": {
      "text/html": [
       "<div>\n",
       "<style scoped>\n",
       "    .dataframe tbody tr th:only-of-type {\n",
       "        vertical-align: middle;\n",
       "    }\n",
       "\n",
       "    .dataframe tbody tr th {\n",
       "        vertical-align: top;\n",
       "    }\n",
       "\n",
       "    .dataframe thead th {\n",
       "        text-align: right;\n",
       "    }\n",
       "</style>\n",
       "<table border=\"1\" class=\"dataframe\">\n",
       "  <thead>\n",
       "    <tr style=\"text-align: right;\">\n",
       "      <th></th>\n",
       "      <th>Date notified of potential case</th>\n",
       "      <th>Sex</th>\n",
       "      <th>Age group</th>\n",
       "      <th>DHB</th>\n",
       "      <th>Overseas travel</th>\n",
       "      <th>Last country before return</th>\n",
       "      <th>Flight number</th>\n",
       "      <th>Flight departure date</th>\n",
       "      <th>Arrival date</th>\n",
       "      <th>date</th>\n",
       "    </tr>\n",
       "  </thead>\n",
       "  <tbody>\n",
       "    <tr>\n",
       "      <th>0</th>\n",
       "      <td>2020-07-05</td>\n",
       "      <td>Female</td>\n",
       "      <td>20 to 29</td>\n",
       "      <td>Waitematā</td>\n",
       "      <td>No</td>\n",
       "      <td>NaN</td>\n",
       "      <td>NaN</td>\n",
       "      <td>NaN</td>\n",
       "      <td>NaN</td>\n",
       "      <td>2020-07-05</td>\n",
       "    </tr>\n",
       "    <tr>\n",
       "      <th>1</th>\n",
       "      <td>2020-06-05</td>\n",
       "      <td>Male</td>\n",
       "      <td>5 to 9</td>\n",
       "      <td>Waikato</td>\n",
       "      <td>No</td>\n",
       "      <td>NaN</td>\n",
       "      <td>NaN</td>\n",
       "      <td>NaN</td>\n",
       "      <td>NaN</td>\n",
       "      <td>2020-06-05</td>\n",
       "    </tr>\n",
       "    <tr>\n",
       "      <th>2</th>\n",
       "      <td>2020-05-05</td>\n",
       "      <td>Female</td>\n",
       "      <td>10 to 14</td>\n",
       "      <td>Waitematā</td>\n",
       "      <td>No</td>\n",
       "      <td>NaN</td>\n",
       "      <td>NaN</td>\n",
       "      <td>NaN</td>\n",
       "      <td>NaN</td>\n",
       "      <td>2020-05-05</td>\n",
       "    </tr>\n",
       "    <tr>\n",
       "      <th>3</th>\n",
       "      <td>2020-01-05</td>\n",
       "      <td>Male</td>\n",
       "      <td>60 to 69</td>\n",
       "      <td>Auckland</td>\n",
       "      <td>No</td>\n",
       "      <td>NaN</td>\n",
       "      <td>NaN</td>\n",
       "      <td>NaN</td>\n",
       "      <td>NaN</td>\n",
       "      <td>2020-01-05</td>\n",
       "    </tr>\n",
       "    <tr>\n",
       "      <th>4</th>\n",
       "      <td>2020-01-05</td>\n",
       "      <td>Female</td>\n",
       "      <td>20 to 29</td>\n",
       "      <td>Canterbury</td>\n",
       "      <td>No</td>\n",
       "      <td>NaN</td>\n",
       "      <td>NaN</td>\n",
       "      <td>NaN</td>\n",
       "      <td>NaN</td>\n",
       "      <td>2020-01-05</td>\n",
       "    </tr>\n",
       "    <tr>\n",
       "      <th>...</th>\n",
       "      <td>...</td>\n",
       "      <td>...</td>\n",
       "      <td>...</td>\n",
       "      <td>...</td>\n",
       "      <td>...</td>\n",
       "      <td>...</td>\n",
       "      <td>...</td>\n",
       "      <td>...</td>\n",
       "      <td>...</td>\n",
       "      <td>...</td>\n",
       "    </tr>\n",
       "    <tr>\n",
       "      <th>1137</th>\n",
       "      <td>2020-06-03</td>\n",
       "      <td>Female</td>\n",
       "      <td>40 to 49</td>\n",
       "      <td>Counties Manukau</td>\n",
       "      <td>No</td>\n",
       "      <td>NaN</td>\n",
       "      <td>NaN</td>\n",
       "      <td>NaN</td>\n",
       "      <td>NaN</td>\n",
       "      <td>2020-06-03</td>\n",
       "    </tr>\n",
       "    <tr>\n",
       "      <th>1138</th>\n",
       "      <td>2020-04-03</td>\n",
       "      <td>Male</td>\n",
       "      <td>40 to 49</td>\n",
       "      <td>Counties Manukau</td>\n",
       "      <td>No</td>\n",
       "      <td>NaN</td>\n",
       "      <td>NaN</td>\n",
       "      <td>NaN</td>\n",
       "      <td>NaN</td>\n",
       "      <td>2020-04-03</td>\n",
       "    </tr>\n",
       "    <tr>\n",
       "      <th>1139</th>\n",
       "      <td>2020-04-03</td>\n",
       "      <td>Male</td>\n",
       "      <td>40 to 49</td>\n",
       "      <td>Waitematā</td>\n",
       "      <td>Yes</td>\n",
       "      <td>Singapore</td>\n",
       "      <td>NZ283</td>\n",
       "      <td>25/02/2020</td>\n",
       "      <td>26/02/2020</td>\n",
       "      <td>2020-04-03</td>\n",
       "    </tr>\n",
       "    <tr>\n",
       "      <th>1140</th>\n",
       "      <td>2020-02-03</td>\n",
       "      <td>Female</td>\n",
       "      <td>30 to 39</td>\n",
       "      <td>Waitematā</td>\n",
       "      <td>Yes</td>\n",
       "      <td>Singapore</td>\n",
       "      <td>NZ283</td>\n",
       "      <td>25/02/2020</td>\n",
       "      <td>26/02/2020</td>\n",
       "      <td>2020-02-03</td>\n",
       "    </tr>\n",
       "    <tr>\n",
       "      <th>1141</th>\n",
       "      <td>2020-02-26</td>\n",
       "      <td>Female</td>\n",
       "      <td>60 to 69</td>\n",
       "      <td>Auckland</td>\n",
       "      <td>Yes</td>\n",
       "      <td>Indonesia</td>\n",
       "      <td>EK450</td>\n",
       "      <td>25/02/2020</td>\n",
       "      <td>26/02/2020</td>\n",
       "      <td>2020-02-26</td>\n",
       "    </tr>\n",
       "  </tbody>\n",
       "</table>\n",
       "<p>1142 rows × 10 columns</p>\n",
       "</div>"
      ],
      "text/plain": [
       "     Date notified of potential case     Sex Age group               DHB  \\\n",
       "0                         2020-07-05  Female  20 to 29         Waitematā   \n",
       "1                         2020-06-05    Male    5 to 9           Waikato   \n",
       "2                         2020-05-05  Female  10 to 14         Waitematā   \n",
       "3                         2020-01-05    Male  60 to 69          Auckland   \n",
       "4                         2020-01-05  Female  20 to 29        Canterbury   \n",
       "...                              ...     ...       ...               ...   \n",
       "1137                      2020-06-03  Female  40 to 49  Counties Manukau   \n",
       "1138                      2020-04-03    Male  40 to 49  Counties Manukau   \n",
       "1139                      2020-04-03    Male  40 to 49         Waitematā   \n",
       "1140                      2020-02-03  Female  30 to 39         Waitematā   \n",
       "1141                      2020-02-26  Female  60 to 69          Auckland   \n",
       "\n",
       "     Overseas travel Last country before return Flight number  \\\n",
       "0                 No                        NaN           NaN   \n",
       "1                 No                        NaN           NaN   \n",
       "2                 No                        NaN           NaN   \n",
       "3                 No                        NaN           NaN   \n",
       "4                 No                        NaN           NaN   \n",
       "...              ...                        ...           ...   \n",
       "1137              No                        NaN           NaN   \n",
       "1138              No                        NaN           NaN   \n",
       "1139             Yes                  Singapore         NZ283   \n",
       "1140             Yes                  Singapore         NZ283   \n",
       "1141             Yes                  Indonesia         EK450   \n",
       "\n",
       "     Flight departure date Arrival date       date  \n",
       "0                      NaN          NaN 2020-07-05  \n",
       "1                      NaN          NaN 2020-06-05  \n",
       "2                      NaN          NaN 2020-05-05  \n",
       "3                      NaN          NaN 2020-01-05  \n",
       "4                      NaN          NaN 2020-01-05  \n",
       "...                    ...          ...        ...  \n",
       "1137                   NaN          NaN 2020-06-03  \n",
       "1138                   NaN          NaN 2020-04-03  \n",
       "1139            25/02/2020   26/02/2020 2020-04-03  \n",
       "1140            25/02/2020   26/02/2020 2020-02-03  \n",
       "1141            25/02/2020   26/02/2020 2020-02-26  \n",
       "\n",
       "[1142 rows x 10 columns]"
      ]
     },
     "execution_count": 34,
     "metadata": {},
     "output_type": "execute_result"
    }
   ],
   "source": [
    "df\n"
   ]
  },
  {
   "cell_type": "code",
   "execution_count": 42,
   "metadata": {},
   "outputs": [
    {
     "data": {
      "text/html": [
       "<div>\n",
       "<style scoped>\n",
       "    .dataframe tbody tr th:only-of-type {\n",
       "        vertical-align: middle;\n",
       "    }\n",
       "\n",
       "    .dataframe tbody tr th {\n",
       "        vertical-align: top;\n",
       "    }\n",
       "\n",
       "    .dataframe thead th {\n",
       "        text-align: right;\n",
       "    }\n",
       "</style>\n",
       "<table border=\"1\" class=\"dataframe\">\n",
       "  <thead>\n",
       "    <tr style=\"text-align: right;\">\n",
       "      <th></th>\n",
       "      <th>DHB</th>\n",
       "      <th>date</th>\n",
       "    </tr>\n",
       "  </thead>\n",
       "  <tbody>\n",
       "    <tr>\n",
       "      <th>0</th>\n",
       "      <td>Waitematā</td>\n",
       "      <td>2020-07-05</td>\n",
       "    </tr>\n",
       "    <tr>\n",
       "      <th>1</th>\n",
       "      <td>Waikato</td>\n",
       "      <td>2020-06-05</td>\n",
       "    </tr>\n",
       "    <tr>\n",
       "      <th>2</th>\n",
       "      <td>Waitematā</td>\n",
       "      <td>2020-05-05</td>\n",
       "    </tr>\n",
       "    <tr>\n",
       "      <th>3</th>\n",
       "      <td>Auckland</td>\n",
       "      <td>2020-01-05</td>\n",
       "    </tr>\n",
       "    <tr>\n",
       "      <th>4</th>\n",
       "      <td>Canterbury</td>\n",
       "      <td>2020-01-05</td>\n",
       "    </tr>\n",
       "    <tr>\n",
       "      <th>...</th>\n",
       "      <td>...</td>\n",
       "      <td>...</td>\n",
       "    </tr>\n",
       "    <tr>\n",
       "      <th>1137</th>\n",
       "      <td>Counties Manukau</td>\n",
       "      <td>2020-06-03</td>\n",
       "    </tr>\n",
       "    <tr>\n",
       "      <th>1138</th>\n",
       "      <td>Counties Manukau</td>\n",
       "      <td>2020-04-03</td>\n",
       "    </tr>\n",
       "    <tr>\n",
       "      <th>1139</th>\n",
       "      <td>Waitematā</td>\n",
       "      <td>2020-04-03</td>\n",
       "    </tr>\n",
       "    <tr>\n",
       "      <th>1140</th>\n",
       "      <td>Waitematā</td>\n",
       "      <td>2020-02-03</td>\n",
       "    </tr>\n",
       "    <tr>\n",
       "      <th>1141</th>\n",
       "      <td>Auckland</td>\n",
       "      <td>2020-02-26</td>\n",
       "    </tr>\n",
       "  </tbody>\n",
       "</table>\n",
       "<p>1142 rows × 2 columns</p>\n",
       "</div>"
      ],
      "text/plain": [
       "                   DHB       date\n",
       "0            Waitematā 2020-07-05\n",
       "1              Waikato 2020-06-05\n",
       "2            Waitematā 2020-05-05\n",
       "3             Auckland 2020-01-05\n",
       "4           Canterbury 2020-01-05\n",
       "...                ...        ...\n",
       "1137  Counties Manukau 2020-06-03\n",
       "1138  Counties Manukau 2020-04-03\n",
       "1139         Waitematā 2020-04-03\n",
       "1140         Waitematā 2020-02-03\n",
       "1141          Auckland 2020-02-26\n",
       "\n",
       "[1142 rows x 2 columns]"
      ]
     },
     "execution_count": 42,
     "metadata": {},
     "output_type": "execute_result"
    }
   ],
   "source": [
    "df.drop(['Date notified of potential case', 'Sex', 'Age group', 'Overseas travel', 'Last country before return', 'Flight number', 'Flight departure date', 'Arrival date'], axis = 1)\n"
   ]
  },
  {
   "cell_type": "code",
   "execution_count": 39,
   "metadata": {},
   "outputs": [
    {
     "data": {
      "text/plain": [
       "numpy.ndarray"
      ]
     },
     "execution_count": 39,
     "metadata": {},
     "output_type": "execute_result"
    },
    {
     "data": {
      "image/png": "[encoded data removed]",
      "text/plain": [
       "<Figure size 432x288 with 2 Axes>"
      ]
     },
     "metadata": {
      "needs_background": "light"
     },
     "output_type": "display_data"
    }
   ],
   "source": [
    "axes = df.plot.line(subplots=True)\n",
    "type(axes)\n"
   ]
  },
  {
   "cell_type": "code",
   "execution_count": 154,
   "metadata": {},
   "outputs": [],
   "source": [
    "def create_ts(df):\n",
    "  ts = df\n",
    "  ts = ts.drop(['Date notified of potential case', 'Sex', 'Age group', 'Overseas travel', 'Last country before return', 'Flight number', 'Flight departure date', 'Arrival date'], axis = 1)\n",
    "  ts.set_index('date')\n",
    "  #ts = ts.T\n",
    "  #ts = ts.drop(['DHB'])\n",
    "  #ts.columns = ts.loc['DHB']\n",
    "  #ts = ts.drop('date')\n",
    "  #ts=ts.fillna(0)\n",
    "  #ts=ts.reindex(sorted(ts.columns), axis=0)\n",
    "  #return (ts)\n",
    "  print(ts)"
   ]
  },
  {
   "cell_type": "code",
   "execution_count": 155,
   "metadata": {},
   "outputs": [
    {
     "name": "stdout",
     "output_type": "stream",
     "text": [
      "                   DHB       date\n",
      "0            Waitematā 2020-07-05\n",
      "1              Waikato 2020-06-05\n",
      "2            Waitematā 2020-05-05\n",
      "3             Auckland 2020-01-05\n",
      "4           Canterbury 2020-01-05\n",
      "...                ...        ...\n",
      "1137  Counties Manukau 2020-06-03\n",
      "1138  Counties Manukau 2020-04-03\n",
      "1139         Waitematā 2020-04-03\n",
      "1140         Waitematā 2020-02-03\n",
      "1141          Auckland 2020-02-26\n",
      "\n",
      "[1142 rows x 2 columns]\n"
     ]
    }
   ],
   "source": [
    "time = create_ts(df)\n",
    "#print(time)"
   ]
  },
  {
   "cell_type": "code",
   "execution_count": 145,
   "metadata": {},
   "outputs": [
    {
     "data": {
      "text/plain": [
       "Text(0.5, 1.0, 'Daily Total Confirmed - Major areas')"
      ]
     },
     "execution_count": 145,
     "metadata": {},
     "output_type": "execute_result"
    },
    {
     "data": {
      "image/png": "[encoded data removed]",
      "text/plain": [
       "<Figure size 720x288 with 1 Axes>"
      ]
     },
     "metadata": {
      "needs_background": "light"
     },
     "output_type": "display_data"
    },
    {
     "data": {
      "image/png": "[encoded data removed]",
      "text/plain": [
       "<Figure size 720x288 with 1 Axes>"
      ]
     },
     "metadata": {
      "needs_background": "light"
     },
     "output_type": "display_data"
    }
   ],
   "source": [
    "p = ts.reindex(ts.max().sort_values(ascending=False).index, axis=0)\n",
    "p.iloc[:,:1].plot(marker='*',figsize=(10,4)).set_title('Daily Total Confirmed - Canterbury',fontdict={'fontsize': 22})\n",
    "p.iloc[:,2:10].plot(marker='*',figsize=(10,4)).set_title('Daily Total Confirmed - Major areas',fontdict={'fontsize': 22})\n",
    "\n"
   ]
  },
  {
   "cell_type": "code",
   "execution_count": null,
   "metadata": {},
   "outputs": [],
   "source": []
  }
 ],
 "metadata": {
  "kernelspec": {
   "display_name": "Python 3",
   "language": "python",
   "name": "python3"
  },
  "language_info": {
   "codemirror_mode": {
    "name": "ipython",
    "version": 3
   },
   "file_extension": ".py",
   "mimetype": "text/x-python",
   "name": "python",
   "nbconvert_exporter": "python",
   "pygments_lexer": "ipython3",
   "version": "3.7.6"
  }
 },
 "nbformat": 4,
 "nbformat_minor": 4
}
